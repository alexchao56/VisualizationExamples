{
 "cells": [
  {
   "cell_type": "markdown",
   "metadata": {},
   "source": [
    "# <img src=images/continuum_analytics_b&w.png align=\"left\" width=\"15%\" style=\"margin-right:15%\">"
   ]
  },
  {
   "cell_type": "markdown",
   "metadata": {},
   "source": [
    "<h1 align='center'>Bokeh Tutorial</h1>"
   ]
  },
  {
   "cell_type": "markdown",
   "metadata": {},
   "source": [
    "## 1.7 Animate (optional)"
   ]
  },
  {
   "cell_type": "markdown",
   "metadata": {},
   "source": [
    "**Exercise: Add a title plot for the app with month and year that gets updated with the plot animation**"
   ]
  },
  {
   "cell_type": "code",
   "execution_count": 1,
   "metadata": {
    "collapsed": true
   },
   "outputs": [],
   "source": [
    "# Imports\n",
    "import numpy as np\n",
    "import netCDF4\n",
    "\n",
    "from bokeh.plotting import vplot, hplot, cursession, output_server, show\n",
    "\n",
    "from viz import climate_map, timeseries, legend, get_slice  "
   ]
  },
  {
   "cell_type": "code",
   "execution_count": 2,
   "metadata": {
    "collapsed": true
   },
   "outputs": [],
   "source": [
    "# Data\n",
    "data = netCDF4.Dataset('data/Land_and_Ocean_LatLong1.nc')\n",
    "t = data.variables['temperature']"
   ]
  },
  {
   "cell_type": "code",
   "execution_count": 3,
   "metadata": {
    "collapsed": false
   },
   "outputs": [
    {
     "name": "stdout",
     "output_type": "stream",
     "text": [
      "Using saved session configuration for http://localhost:5006/\n",
      "To override, pass 'load_from_config=False' to Session\n"
     ]
    }
   ],
   "source": [
    "# Output option\n",
    "output_server(\"climate\")"
   ]
  },
  {
   "cell_type": "code",
   "execution_count": 4,
   "metadata": {
    "collapsed": false
   },
   "outputs": [
    {
     "data": {
      "text/plain": [
       "<bokeh.plotting.Figure at 0x1111b9c50>"
      ]
     },
     "execution_count": 4,
     "metadata": {},
     "output_type": "execute_result"
    }
   ],
   "source": [
    "from bokeh.plotting import figure\n",
    "\n",
    "# Data \n",
    "year = 1850\n",
    "month = 1\n",
    "\n",
    "years = [str(x) for x in np.arange(1850, 2015, 1)]\n",
    "\n",
    "months = [str(x) for x in np.arange(1, 13, 1)]\n",
    "months_str = ['January', 'February', 'March', 'April', 'May', 'June', 'July', 'August', 'September', 'October', 'November', 'December']\n",
    "\n",
    "month_str = months_str[month-1]\n",
    "\n",
    "# New text Plot\n",
    "title = figure(width=1200, height=100, x_range=(0, 1200), y_range=(0, 100), toolbar_location=None,\n",
    "        x_axis_type=None, y_axis_type=None, outline_line_color=\"#FFFFFF\", tools=\"\", min_border=0)\n",
    "\n",
    "title.text(x=500, y=5, text=[month_str], text_font_size='36pt', text_color='black', name=\"month\", text_font=\"Georgia\")\n",
    "title.text(x=350, y=5, text=[str(year)], text_font_size='36pt', text_color='black', name=\"year\",text_font=\"Georgia\")"
   ]
  },
  {
   "cell_type": "code",
   "execution_count": 5,
   "metadata": {
    "collapsed": false
   },
   "outputs": [],
   "source": [
    "# Plots\n",
    "climate_map = climate_map()\n",
    "timeseries = timeseries()\n",
    "legend = legend()"
   ]
  },
  {
   "cell_type": "code",
   "execution_count": 6,
   "metadata": {
    "collapsed": true
   },
   "outputs": [],
   "source": [
    "# Create layout\n",
    "map_legend = hplot(climate_map, legend)\n",
    "layout = vplot(title, map_legend, timeseries)"
   ]
  },
  {
   "cell_type": "code",
   "execution_count": 7,
   "metadata": {
    "collapsed": true
   },
   "outputs": [],
   "source": [
    "# Show\n",
    "show(layout)"
   ]
  },
  {
   "cell_type": "code",
   "execution_count": 8,
   "metadata": {
    "collapsed": false
   },
   "outputs": [],
   "source": [
    "# Select data source for climate_map and month and year\n",
    "renderer = climate_map.select(dict(name=\"image\"))\n",
    "ds = renderer[0].data_source\n",
    "\n",
    "month_renderer = title.select(dict(name=\"month\"))\n",
    "month_ds = month_renderer[0].data_source\n",
    "\n",
    "year_renderer = title.select(dict(name=\"year\"))\n",
    "year_ds = year_renderer[0].data_source"
   ]
  },
  {
   "cell_type": "code",
   "execution_count": null,
   "metadata": {
    "collapsed": false,
    "scrolled": true
   },
   "outputs": [],
   "source": [
    "# Modify the previous loop: updates the image, month and year data sources\n",
    "import time\n",
    "\n",
    "while True:\n",
    "    for year_index in np.arange(2000, 2015, 1):\n",
    "        year_ds.data[\"text\"] = [str(year_index)]\n",
    "        for month_index in np.arange(1, 13, 1):\n",
    "            month_ds.data[\"text\"] = [months_str[month_index-1]]\n",
    "            image = get_slice(t, year_index, month_index)\n",
    "            ds.data[\"image\"] = [image]\n",
    "            cursession().store_objects(ds, year_ds, month_ds)\n",
    "            time.sleep(0.2)"
   ]
  },
  {
   "cell_type": "markdown",
   "metadata": {},
   "source": [
    "**Exercise: Modify your `viz.py file` to include the new title plot**"
   ]
  }
 ],
 "metadata": {
  "kernelspec": {
   "display_name": "Python 2",
   "language": "python",
   "name": "python2"
  },
  "language_info": {
   "codemirror_mode": {
    "name": "ipython",
    "version": 2
   },
   "file_extension": ".py",
   "mimetype": "text/x-python",
   "name": "python",
   "nbconvert_exporter": "python",
   "pygments_lexer": "ipython2",
   "version": "2.7.10"
  }
 },
 "nbformat": 4,
 "nbformat_minor": 0
}
